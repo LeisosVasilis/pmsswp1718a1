
import csv
URIS = []
with open('URIEAV.csv','r',newline='') as CSV:
    reader = csv.reader(CSV)
    for row in reader:
         URIS.append(row)
            
           
theTriples = []
for s,p,o in URIS :

    if (p == 'http://dilab77.ionio.gr/swp/c17leis/vocab#Έναρξη')  or (p == 'http://dilab77.ionio.gr/swp/c17leis/vocab#Λήξη'):
        o =  '"' + o + ':00"' + '^^<http://www.w3.org/2001/XMLSchema#time>'
    elif   p == 'http://dilab77.ionio.gr/swp/c17leis/vocab#Ημέρα':
        o = '"' + o + '"'
    else :
         o = '<' + o + '>'
            
    if (p == 'http://dilab77.ionio.gr/swp/c17leis/vocab#Καθηγητής%20'):
        s =  o 
        p = 'http://www.w3.org/1999/02/22-rdf-syntax-ns#type'
        o = '<http://dilab77.ionio.gr/swp/c17leis/vocab#Καθηγητής%20>'
    elif (p == 'http://dilab77.ionio.gr/swp/c17leis/vocab#Μάθημα'):
        s =  o 
        p = 'http://www.w3.org/1999/02/22-rdf-syntax-ns#type'
        o = '<http://dilab77.ionio.gr/swp/c17leis/vocab#Μάθημα>'    
    elif (p == 'http://dilab77.ionio.gr/swp/c17leis/vocab#Αίθουσα'):
        s =  o 
        p = 'http://www.w3.org/1999/02/22-rdf-syntax-ns#type'
        o = '<http://dilab77.ionio.gr/swp/c17leis/vocab#Αίθουσα>'     
   
    p = '<' + p + '>'
    theTriples.append([s,p,o])
    
#παραγωγή   theTriples 
with open('schedule-data.nt','w') as ofp:
    for s,p,o in theTriples:
        thisLine  = s +' '+ p +' ' + o +'.'  + '\n'
        ofp.write(thisLine)

     
!riot --validate schedule-data.nt

 
 
 
!riot --output=turtle schedule-data.nt > schedule-data.ttl
